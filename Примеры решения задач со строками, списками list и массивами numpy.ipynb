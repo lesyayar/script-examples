{
 "cells": [
  {
   "cell_type": "markdown",
   "id": "576fcdad",
   "metadata": {},
   "source": [
    "### Задача 1. Использование строк\n",
    "\n",
    "Необходимо определить, является ли введённая строка палиндромом. Вывести yes, если является, и no в противном случае.\n",
    "\n",
    "**Sample Input:**\n",
    "\n",
    "abcdabcd\n",
    "\n",
    "**Sample Output:**\n",
    "\n",
    "no"
   ]
  },
  {
   "cell_type": "code",
   "execution_count": 1,
   "id": "296515b4",
   "metadata": {},
   "outputs": [
    {
     "name": "stdout",
     "output_type": "stream",
     "text": [
      "abcdabcd\n",
      "no\n"
     ]
    }
   ],
   "source": [
    "s = input()\n",
    "l = len(s)\n",
    "res = \"\"\n",
    "for i in range(l-1,-1,-1):\n",
    "    res += s[i]\n",
    "if res == s:\n",
    "    print(\"yes\")\n",
    "else:\n",
    "    print(\"no\")"
   ]
  },
  {
   "cell_type": "markdown",
   "id": "98949333",
   "metadata": {},
   "source": [
    "### Задача 2. Использование списков и массивов\n",
    "\n",
    "Программа принимает на вход четыре натуральных числа N, M, K, S, разделённых пробелом. Необходимо создать целочисленный двумерный массив numpy, содержащий N строк и M столбцов и заполнить его единицами. Затем умножить все чётные строки (0, 2, 4, ...) на K, а все нечётные столбцы (1, 3, 5, ...) умножить на S. Программа должна вывести на экран сумму всех элементов полученного массива.\n",
    "\n",
    "**Sample Input:**\n",
    "\n",
    "2 3 2 5\n",
    "\n",
    "**Sample Output:**\n",
    "\n",
    "21"
   ]
  },
  {
   "cell_type": "code",
   "execution_count": 3,
   "id": "457e3de2",
   "metadata": {},
   "outputs": [
    {
     "name": "stdout",
     "output_type": "stream",
     "text": [
      "2 3 2 5\n",
      "21\n"
     ]
    }
   ],
   "source": [
    "import numpy as np\n",
    "\n",
    "N, M, K, S = map(int, input().split(\" \"))\n",
    "res = 0\n",
    "mas = np.ones((N, M))\n",
    "for i in range(0, N):\n",
    "    for j in range(0, M):\n",
    "        if i % 2 == 0:\n",
    "            mas[i][j] = mas[i][j] * K\n",
    "        if j % 2 != 0:\n",
    "            mas[i][j] = mas[i][j] * S\n",
    "        res += mas[i][j]\n",
    "print(int(res))"
   ]
  },
  {
   "cell_type": "markdown",
   "id": "92f2300c",
   "metadata": {},
   "source": [
    "### Задание 3. Формирование массива циклами и условиями/библиотеками numpy\n",
    "\n",
    "Необходимо сформировать случайный целочисленный массив numpy размером N строк на M столбцов. N и M задать с клавиатуры. Далее нужно вычислить минимальный элемент в каждом стоблце. \n",
    "\n",
    "Реализовать двумя способами:  \n",
    "a) Без использования вспомогательных функций, используя только циклы и условия;  \n",
    "b) С использованием специальной функции из библиотеки numpy.\n",
    "\n",
    "Вывести полученные минимальные элементы в следующем формате (для каждого столбца своё предложение):\n",
    "\n",
    "*Минимальный элемент в 1 столбце равен m1*  \n",
    "*Минимальный элемент в 2 столбце равен m2*  \n",
    "*...*  \n",
    "*Минимальный элемент в M столбце равен mM*  "
   ]
  },
  {
   "cell_type": "code",
   "execution_count": 6,
   "id": "1ddcafb5",
   "metadata": {},
   "outputs": [
    {
     "name": "stdout",
     "output_type": "stream",
     "text": [
      "Введите число строк и столбцов массива через пробел: 3 3\n",
      "[[-57, -98, 20], [14, 3, 95], [72, -69, 82]]\n",
      "Минимальный элемент в 1 столбце равен -57\n",
      "Минимальный элемент в 2 столбце равен -98\n",
      "Минимальный элемент в 3 столбце равен 20\n"
     ]
    }
   ],
   "source": [
    "#а) без использования вспомогательных функций, используя циклы и условия\n",
    "from random import randint\n",
    "import numpy as np\n",
    "N, M = map(int, input(\"Введите число строк и столбцов массива через пробел: \").split())\n",
    "a = [[randint(-100,100) for j in range(M)] for i in range(N)] \n",
    "print(a)\n",
    "massiv = np.array(a)\n",
    "n = 0\n",
    "min_n = 101\n",
    "for c in massiv.T:\n",
    "    min_n = 101\n",
    "    for m in c:\n",
    "        if m < min_n:\n",
    "            min_n = m\n",
    "    n += 1\n",
    "    print(f\"Минимальный элемент в {n} столбце равен {min_n}\")"
   ]
  },
  {
   "cell_type": "code",
   "execution_count": 7,
   "id": "d92b4068",
   "metadata": {},
   "outputs": [
    {
     "name": "stdout",
     "output_type": "stream",
     "text": [
      "Введите число строк и столбцов массива через пробел: 6 3\n",
      "[[ 80 -26  86]\n",
      " [ 44 -30  99]\n",
      " [-16 -30 -83]\n",
      " [-49  62  35]\n",
      " [-38 -14 -43]\n",
      " [ 22  10  35]]\n",
      "Минимальный элемент в 1 столбце равен -49\n",
      "Минимальный элемент в 2 столбце равен -30\n",
      "Минимальный элемент в 3 столбце равен -83\n"
     ]
    }
   ],
   "source": [
    "#b) с использованием специальной функции из библиотеки numpy\n",
    "from random import randint\n",
    "import numpy as np\n",
    "N, M = map(int, input(\"Введите число строк и столбцов массива через пробел: \").split())\n",
    "massiv = np.random.randint(-100,100, (N, M))\n",
    "print(massiv)\n",
    "min_n = np.min(massiv, axis = 0)\n",
    "for i in range(0,M):\n",
    "    if i <= M:\n",
    "        print(f\"Минимальный элемент в {i + 1} столбце равен {min_n[i]}\")\n",
    "        i += 1"
   ]
  }
 ],
 "metadata": {
  "kernelspec": {
   "display_name": "Python 3 (ipykernel)",
   "language": "python",
   "name": "python3"
  },
  "language_info": {
   "codemirror_mode": {
    "name": "ipython",
    "version": 3
   },
   "file_extension": ".py",
   "mimetype": "text/x-python",
   "name": "python",
   "nbconvert_exporter": "python",
   "pygments_lexer": "ipython3",
   "version": "3.11.3"
  }
 },
 "nbformat": 4,
 "nbformat_minor": 5
}
